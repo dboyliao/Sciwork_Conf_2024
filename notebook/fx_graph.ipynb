{
 "cells": [
  {
   "cell_type": "markdown",
   "id": "85f3c6e8-d5fb-480e-8ce8-70d5e442a9e4",
   "metadata": {
    "deletable": true,
    "editable": true,
    "frozen": false,
    "slideshow": {
     "slide_type": "slide"
    },
    "tags": []
   },
   "source": [
    "# `torch.fx.Graph` Quick Introduction"
   ]
  },
  {
   "cell_type": "code",
   "execution_count": 1,
   "id": "bcde31cf-6158-4d3d-b293-6c24c75777d0",
   "metadata": {
    "deletable": true,
    "editable": true,
    "frozen": false,
    "slideshow": {
     "slide_type": "skip"
    },
    "tags": []
   },
   "outputs": [],
   "source": [
    "from copy import deepcopy\n",
    "\n",
    "import torch\n",
    "import torch.nn as nn\n",
    "import torch.nn.functional as F"
   ]
  },
  {
   "cell_type": "markdown",
   "id": "f7c7e1c9-c7d9-46b8-ae25-f4a5381e2bb6",
   "metadata": {
    "deletable": true,
    "editable": true,
    "frozen": false,
    "slideshow": {
     "slide_type": "slide"
    },
    "tags": []
   },
   "source": [
    "## Symbolic Tracing"
   ]
  },
  {
   "cell_type": "code",
   "execution_count": 2,
   "id": "8364f937-05f0-4875-a5b4-6d6d39cd1f46",
   "metadata": {
    "deletable": true,
    "editable": true,
    "frozen": false,
    "slideshow": {
     "slide_type": "subslide"
    },
    "tags": []
   },
   "outputs": [],
   "source": [
    "class MyModel(nn.Module):\n",
    "    def __init__(self, in_features, out_features):\n",
    "        super().__init__()\n",
    "        self.linear = nn.Linear(in_features, out_features)\n",
    "        self.relu = nn.ReLU()\n",
    "\n",
    "    def forward(self, x, y):\n",
    "        x = torch.add(x, y)\n",
    "        x = F.tanh(x)\n",
    "        x = self.linear(x)\n",
    "        return self.relu(x)"
   ]
  },
  {
   "cell_type": "code",
   "execution_count": 3,
   "id": "3669f941-fd90-48de-b493-ebdedd21e58e",
   "metadata": {
    "deletable": true,
    "editable": true,
    "frozen": false,
    "slideshow": {
     "slide_type": "subslide"
    },
    "tags": []
   },
   "outputs": [],
   "source": [
    "import torch.fx as fx"
   ]
  },
  {
   "cell_type": "code",
   "execution_count": 4,
   "id": "6a198038-df3e-4114-8df0-657c1c90db9f",
   "metadata": {
    "deletable": true,
    "editable": true,
    "frozen": false,
    "slideshow": {
     "slide_type": "fragment"
    },
    "tags": []
   },
   "outputs": [],
   "source": [
    "gm = fx.symbolic_trace(MyModel(100, 10))"
   ]
  },
  {
   "cell_type": "code",
   "execution_count": 5,
   "id": "0519f1c3-694d-482f-97a1-364cafdca10c",
   "metadata": {
    "deletable": true,
    "editable": true,
    "frozen": false,
    "slideshow": {
     "slide_type": "subslide"
    },
    "tags": []
   },
   "outputs": [
    {
     "data": {
      "text/plain": [
       "torch.fx.graph_module.GraphModule.__new__.<locals>.GraphModuleImpl"
      ]
     },
     "execution_count": 5,
     "metadata": {},
     "output_type": "execute_result"
    }
   ],
   "source": [
    "type(gm)"
   ]
  },
  {
   "cell_type": "code",
   "execution_count": 6,
   "id": "c6637f12-c257-4fbb-97dd-497bef21135e",
   "metadata": {
    "deletable": true,
    "editable": true,
    "frozen": false,
    "slideshow": {
     "slide_type": "fragment"
    },
    "tags": []
   },
   "outputs": [
    {
     "name": "stdout",
     "output_type": "stream",
     "text": [
      "opcode         name    target                                               args       kwargs\n",
      "-------------  ------  ---------------------------------------------------  ---------  --------\n",
      "placeholder    x       x                                                    ()         {}\n",
      "placeholder    y       y                                                    ()         {}\n",
      "call_function  add     <built-in method add of type object at 0x114dbf150>  (x, y)     {}\n",
      "call_method    tanh    tanh                                                 (add,)     {}\n",
      "call_module    linear  linear                                               (tanh,)    {}\n",
      "call_module    relu    relu                                                 (linear,)  {}\n",
      "output         output  output                                               (relu,)    {}\n"
     ]
    }
   ],
   "source": [
    "gm.graph.print_tabular()"
   ]
  },
  {
   "cell_type": "markdown",
   "id": "dd4bebac-41fa-486d-b874-e0c9923fd1fc",
   "metadata": {
    "deletable": true,
    "editable": true,
    "frozen": false,
    "slideshow": {
     "slide_type": "subslide"
    },
    "tags": []
   },
   "source": [
    "## `fx.Graph`"
   ]
  },
  {
   "cell_type": "code",
   "execution_count": 7,
   "id": "05deee92-ebd1-4358-9973-549c67c33969",
   "metadata": {
    "deletable": true,
    "editable": true,
    "frozen": false,
    "slideshow": {
     "slide_type": "subslide"
    },
    "tags": []
   },
   "outputs": [
    {
     "name": "stdout",
     "output_type": "stream",
     "text": [
      "x\n",
      "y\n",
      "add\n",
      "tanh\n",
      "linear\n",
      "relu\n",
      "output\n"
     ]
    }
   ],
   "source": [
    "# `nodes` are in topological ordering\n",
    "for node in gm.graph.nodes:\n",
    "    print(node)"
   ]
  },
  {
   "cell_type": "markdown",
   "id": "dc66868e-0112-4213-9e3d-a08c289a59b9",
   "metadata": {
    "deletable": true,
    "editable": true,
    "frozen": false,
    "slideshow": {
     "slide_type": "subslide"
    },
    "tags": []
   },
   "source": [
    "- Attributes of `fx.Node`\n",
    "    - `op`(`str`): the op code (`call_function`, `call_method`, ...etc)\n",
    "    - `target`: the target of the op\n",
    "        - the type of `target` depends on the `op`\n",
    "    - `args`: the argumments (a.k.a inputs) of the node\n",
    "    - `kwargs`: the keyword arguments of the node"
   ]
  },
  {
   "cell_type": "markdown",
   "id": "ebd5a457-a96f-45db-840a-d598ec4720c1",
   "metadata": {
    "deletable": true,
    "editable": true,
    "frozen": false,
    "slideshow": {
     "slide_type": "fragment"
    },
    "tags": []
   },
   "source": [
    "Read more about `fx.Node` by running:\n",
    "\n",
    "```python\n",
    "help(fx.Node)\n",
    "```"
   ]
  },
  {
   "cell_type": "markdown",
   "id": "a8dab8bc-4c3c-4061-a5a6-98d0bf027cd6",
   "metadata": {
    "deletable": true,
    "editable": true,
    "frozen": false,
    "slideshow": {
     "slide_type": "subslide"
    },
    "tags": []
   },
   "source": [
    "## Basic Graph Editing"
   ]
  },
  {
   "cell_type": "markdown",
   "id": "c7189f31-1052-42f3-bbd6-f6c5b0f0d97e",
   "metadata": {
    "deletable": true,
    "editable": true,
    "frozen": false,
    "slideshow": {
     "slide_type": "fragment"
    },
    "tags": []
   },
   "source": [
    "You can find a lot of examples [here](https://github.com/pytorch/examples/tree/1bef748fab064e2fc3beddcbda60fd51cb9612d2/fx)."
   ]
  },
  {
   "cell_type": "code",
   "execution_count": 8,
   "id": "088e11ae-bc31-4bc3-b5c9-bdb3cd935970",
   "metadata": {
    "deletable": true,
    "editable": true,
    "frozen": false,
    "slideshow": {
     "slide_type": "subslide"
    },
    "tags": []
   },
   "outputs": [],
   "source": [
    "# replace `x + y` with x - y\n",
    "def transform(gm: fx.GraphModule):\n",
    "    gm = deepcopy(gm)\n",
    "    # loop over nodes to find the right target\n",
    "    for node in gm.graph.nodes:\n",
    "        if node.op == \"call_function\" and node.target is torch.add:\n",
    "            node.target = torch.sub\n",
    "    # **IMPORTANT**: remember to run `.recompile` once you are done with the editing\n",
    "    gm.recompile()\n",
    "    return gm"
   ]
  },
  {
   "cell_type": "code",
   "execution_count": 9,
   "id": "68aff5a1-c86a-4fed-b3f7-a3301c133c19",
   "metadata": {
    "deletable": true,
    "editable": true,
    "frozen": false,
    "slideshow": {
     "slide_type": "subslide"
    },
    "tags": []
   },
   "outputs": [],
   "source": [
    "gm_new = transform(gm)"
   ]
  },
  {
   "cell_type": "code",
   "execution_count": 10,
   "id": "bffc487f-a679-45ae-a992-f9e1ddc1beb7",
   "metadata": {
    "deletable": true,
    "editable": true,
    "frozen": false,
    "slideshow": {
     "slide_type": "fragment"
    },
    "tags": []
   },
   "outputs": [
    {
     "name": "stdout",
     "output_type": "stream",
     "text": [
      "opcode         name    target                                               args       kwargs\n",
      "-------------  ------  ---------------------------------------------------  ---------  --------\n",
      "placeholder    x       x                                                    ()         {}\n",
      "placeholder    y       y                                                    ()         {}\n",
      "call_function  add     <built-in method sub of type object at 0x114dbf150>  (x, y)     {}\n",
      "call_method    tanh    tanh                                                 (add,)     {}\n",
      "call_module    linear  linear                                               (tanh,)    {}\n",
      "call_module    relu    relu                                                 (linear,)  {}\n",
      "output         output  output                                               (relu,)    {}\n"
     ]
    }
   ],
   "source": [
    "gm_new.graph.print_tabular()"
   ]
  },
  {
   "cell_type": "code",
   "execution_count": 11,
   "id": "a25074da-2bd9-48c9-84f6-90b083ac8c46",
   "metadata": {
    "deletable": true,
    "editable": true,
    "frozen": false,
    "slideshow": {
     "slide_type": "subslide"
    },
    "tags": []
   },
   "outputs": [],
   "source": [
    "# replace (tanh -> linear -> relu) with (linear -> dropout)\n",
    "class ReplacementModule(nn.Module):\n",
    "    def __init__(self, ori_module):\n",
    "        super().__init__()\n",
    "        self.add_module(\"ori_module\", ori_module)\n",
    "\n",
    "    def forward(self, x):\n",
    "        ori_module = self.get_submodule(\"ori_module\")\n",
    "        return F.dropout(ori_module.linear(x))"
   ]
  },
  {
   "cell_type": "code",
   "execution_count": 12,
   "id": "e943ef9e-202b-42f7-98aa-6e38e74a7eeb",
   "metadata": {
    "deletable": true,
    "editable": true,
    "frozen": false,
    "slideshow": {
     "slide_type": "subslide"
    },
    "tags": []
   },
   "outputs": [],
   "source": [
    "class PatternModule(nn.Module):\n",
    "    def __init__(self, ori_module):\n",
    "        super().__init__()\n",
    "        self.add_module(\"ori_module\", ori_module)\n",
    "\n",
    "    def forward(self, x):\n",
    "        ori_module = self.get_submodule(\"ori_module\")\n",
    "        x = F.tanh(x)\n",
    "        x = ori_module.linear(x)\n",
    "        return ori_module.relu(x)"
   ]
  },
  {
   "cell_type": "code",
   "execution_count": 13,
   "id": "f993d062-2660-41ac-9bc4-74db83ceaa16",
   "metadata": {
    "deletable": true,
    "editable": true,
    "frozen": false,
    "slideshow": {
     "slide_type": "subslide"
    },
    "tags": []
   },
   "outputs": [],
   "source": [
    "def transform_match(gm):\n",
    "    gm = deepcopy(gm)\n",
    "    fx.replace_pattern(\n",
    "        gm,\n",
    "        PatternModule(gm),\n",
    "        ReplacementModule(gm)\n",
    "    )\n",
    "    return gm"
   ]
  },
  {
   "cell_type": "code",
   "execution_count": 14,
   "id": "47fa543d-e47e-4b52-ac14-5e3ee2d795a5",
   "metadata": {
    "deletable": true,
    "editable": true,
    "frozen": false,
    "slideshow": {
     "slide_type": "subslide"
    },
    "tags": []
   },
   "outputs": [],
   "source": [
    "gm_new2 = transform_match(gm_new)"
   ]
  },
  {
   "cell_type": "code",
   "execution_count": 15,
   "id": "e680968e-6a89-4e3f-87b9-534573f5553d",
   "metadata": {
    "deletable": true,
    "editable": true,
    "frozen": false,
    "slideshow": {
     "slide_type": "fragment"
    },
    "tags": []
   },
   "outputs": [
    {
     "name": "stdout",
     "output_type": "stream",
     "text": [
      "opcode         name    target                                               args       kwargs\n",
      "-------------  ------  ---------------------------------------------------  ---------  --------\n",
      "placeholder    x       x                                                    ()         {}\n",
      "placeholder    y       y                                                    ()         {}\n",
      "call_function  add     <built-in method sub of type object at 0x114dbf150>  (x, y)     {}\n",
      "call_method    tanh    tanh                                                 (add,)     {}\n",
      "call_module    linear  linear                                               (tanh,)    {}\n",
      "call_module    relu    relu                                                 (linear,)  {}\n",
      "output         output  output                                               (relu,)    {}\n"
     ]
    }
   ],
   "source": [
    "# A failure :P\n",
    "gm_new2.graph.print_tabular()"
   ]
  }
 ],
 "metadata": {
  "kernelspec": {
   "display_name": "sciconf-2024",
   "language": "python",
   "name": "sciconf-2024"
  },
  "language_info": {
   "codemirror_mode": {
    "name": "ipython",
    "version": 3
   },
   "file_extension": ".py",
   "mimetype": "text/x-python",
   "name": "python",
   "nbconvert_exporter": "python",
   "pygments_lexer": "ipython3",
   "version": "3.10.3"
  }
 },
 "nbformat": 4,
 "nbformat_minor": 5
}
