{
 "cells": [
  {
   "cell_type": "code",
   "execution_count": 1,
   "id": "f83b1d29-77b7-456d-b8f2-9a0f2b7fe388",
   "metadata": {},
   "outputs": [],
   "source": [
    "import pickle\n",
    "\n",
    "import ortools.sat.python.cp_model as cp_model"
   ]
  },
  {
   "cell_type": "code",
   "execution_count": 2,
   "id": "ab620adf-5fed-4123-8754-e0ba24355695",
   "metadata": {},
   "outputs": [],
   "source": [
    "with open(\"./simple_model_mem_alloc_data.pkl\", \"rb\") as fid:\n",
    "    mem_alloc_data = pickle.load(fid)"
   ]
  },
  {
   "cell_type": "code",
   "execution_count": 3,
   "id": "2ad04d70-2970-41e3-a898-d8818415e318",
   "metadata": {},
   "outputs": [
    {
     "data": {
      "text/plain": [
       "dict_keys(['tensors_meta', 'op_inputs_map', 'op_outputs_map', 'ops_topo_order'])"
      ]
     },
     "execution_count": 3,
     "metadata": {},
     "output_type": "execute_result"
    }
   ],
   "source": [
    "mem_alloc_data.keys()"
   ]
  },
  {
   "cell_type": "code",
   "execution_count": 7,
   "id": "02dc74d6-96f3-47cb-83e4-36cbaaf41d4f",
   "metadata": {},
   "outputs": [],
   "source": [
    "tensors_meta = mem_alloc_data[\"tensors_meta\"]\n",
    "op_inputs_map = mem_alloc_data[\"op_inputs_map\"]\n",
    "op_outputs_map = mem_alloc_data[\"op_outputs_map\"]\n",
    "ops_topo_order = mem_alloc_data[\"ops_topo_order\"]"
   ]
  },
  {
   "cell_type": "code",
   "execution_count": 5,
   "id": "301b64bf-abea-4260-ba3f-246d348710cc",
   "metadata": {},
   "outputs": [],
   "source": [
    "from collections import Counter"
   ]
  },
  {
   "cell_type": "code",
   "execution_count": 6,
   "id": "9ac82a7c-63c1-4409-8d70-609989f9d8a5",
   "metadata": {},
   "outputs": [],
   "source": [
    "tensor_ref_cnt = Counter()"
   ]
  },
  {
   "cell_type": "code",
   "execution_count": 11,
   "id": "5577fe10-bdfe-48a7-8750-d11e1827aca8",
   "metadata": {},
   "outputs": [
    {
     "data": {
      "text/plain": [
       "['input_1:0']"
      ]
     },
     "execution_count": 11,
     "metadata": {},
     "output_type": "execute_result"
    }
   ],
   "source": [
    "op_inputs_map[ops_topo_order[1]]"
   ]
  },
  {
   "cell_type": "code",
   "execution_count": 17,
   "id": "373f39bc-bfad-494e-b6dd-f1b1a669ff4c",
   "metadata": {},
   "outputs": [],
   "source": [
    "for op_name in ops_topo_order:\n",
    "    for tensor_name in op_inputs_map[op_name]:\n",
    "        tensor_ref_cnt[tensor_name] += 1"
   ]
  },
  {
   "cell_type": "code",
   "execution_count": 13,
   "id": "9f86b271-8e6c-4748-b23d-d803c0b9b0bd",
   "metadata": {},
   "outputs": [
    {
     "data": {
      "text/plain": [
       "Counter({'input_1:0': 1,\n",
       "         'input_1_int8:0': 1,\n",
       "         'StatefulPartitionedCall/my_model_1/conv2d_1/Conv2D/ReadVariableOp:0': 1,\n",
       "         'StatefulPartitionedCall/my_model_1/conv2d_1/Conv2D_bias:0': 1,\n",
       "         'StatefulPartitionedCall/my_model_1/conv2d_1/Relu:0': 1,\n",
       "         'StatefulPartitionedCall/my_model_1/max_pooling2d_1/MaxPool:0': 1,\n",
       "         'StatefulPartitionedCall/my_model_1/max_pooling2d_1/MaxPool_0_Reshape0:0': 1,\n",
       "         'StatefulPartitionedCall/my_model_1/dense_2/MatMul/ReadVariableOp/transpose:0': 1,\n",
       "         'StatefulPartitionedCall/my_model_1/dense_2/MatMul_bias:0': 1,\n",
       "         'StatefulPartitionedCall/my_model_1/dense_2/Relu:0': 1,\n",
       "         'StatefulPartitionedCall/my_model_1/dense_3/MatMul/ReadVariableOp/transpose:0': 1,\n",
       "         'StatefulPartitionedCall/my_model_1/dense_3/MatMul_bias:0': 1,\n",
       "         'Identity_int8:0': 1})"
      ]
     },
     "execution_count": 13,
     "metadata": {},
     "output_type": "execute_result"
    }
   ],
   "source": [
    "tensor_ref_cnt"
   ]
  },
  {
   "cell_type": "code",
   "execution_count": 24,
   "id": "b6984b5b-d030-42c5-a3f8-ab3e76ab144f",
   "metadata": {},
   "outputs": [],
   "source": [
    "from functools import reduce\n",
    "from math import ceil\n",
    "from collections import namedtuple"
   ]
  },
  {
   "cell_type": "code",
   "execution_count": 25,
   "id": "b3af06af-1b04-432b-bf66-43db70ee0434",
   "metadata": {},
   "outputs": [],
   "source": [
    "MemAlloc = namedtuple(\"MemAlloc\", [\"start\", \"end\", \"size\"])"
   ]
  },
  {
   "cell_type": "code",
   "execution_count": 30,
   "id": "2d7bb377-7138-4f2a-9b49-7a8c7fa93beb",
   "metadata": {},
   "outputs": [],
   "source": [
    "def compute_size(tensor_meta, alignment:int=None):\n",
    "    size, dtype, itemsize = tensor_meta\n",
    "    total_size = reduce(lambda a, b: a*b, size, 1)\n",
    "    if alignment is not None and (total_size % alignment != 0):\n",
    "        total_size = ceil(total_size / alignment) * alignment\n",
    "    return total_size"
   ]
  },
  {
   "cell_type": "code",
   "execution_count": 61,
   "id": "6d933b49-627c-404e-b415-11fd60f5f6f0",
   "metadata": {},
   "outputs": [
    {
     "name": "stdout",
     "output_type": "stream",
     "text": [
      "728132\n"
     ]
    }
   ],
   "source": [
    "naive_total = 0\n",
    "for tensor_meta in tensors_meta.values():\n",
    "    naive_total += compute_size(tensor_meta, 4)\n",
    "print(naive_total)"
   ]
  },
  {
   "cell_type": "code",
   "execution_count": 37,
   "id": "6aec9c8b-2130-4833-a8ee-af084d36573b",
   "metadata": {},
   "outputs": [],
   "source": [
    "from itertools import combinations, product"
   ]
  },
  {
   "cell_type": "code",
   "execution_count": 59,
   "id": "67ee4c8c-f3ce-4d69-8fcd-86c613a2b73b",
   "metadata": {},
   "outputs": [],
   "source": [
    "max_pool_size_in_bytes = 1024*1024\n",
    "visited_tensors = set()\n",
    "allocation_plan = {}\n",
    "var_intv_map = {}\n",
    "no_overlap_pairs = set()\n",
    "\n",
    "opt_model = cp_model.CpModel()\n",
    "# Step 1: declare variables\n",
    "for op_name in ops_topo_order:\n",
    "    out_tensors = op_outputs_map[op_name]\n",
    "    for tensor_name in out_tensors:\n",
    "        var_start = opt_model.NewIntVar(0, max_pool_size_in_bytes, f'{tensor_name}_start')\n",
    "        var_end = opt_model.NewIntVar(0, max_pool_size_in_bytes, f'{tensor_name}_end')\n",
    "        tensor_meta = tensors_meta[tensor_name]\n",
    "        tensor_size_in_bytes = compute_size(tensor_meta, 4) # 32-bits alignment\n",
    "        var_intv = opt_model.NewIntervalVar(var_start, tensor_size_in_bytes, var_end, f'{tensor_name}_alloc')\n",
    "        allocation_plan[tensor_name] = MemAlloc(start=var_start, end=var_end, size=tensor_size_in_bytes)\n",
    "        var_intv_map[tensor_name] = var_intv\n",
    "# Step 2: Setup constraints\n",
    "for op_name in ops_topo_order:\n",
    "    # outputs of the op should not overlap\n",
    "    output_tensor_names = op_outputs_map[op_name]\n",
    "    input_tensor_names = op_inputs_map[op_name]\n",
    "    for this_tensor_name, that_tensor_name in combinations(output_tensor_names, 2):\n",
    "        this_intv = var_intv_map[this_tensor_name]\n",
    "        that_intv = var_intv_map[that_tensor_name]\n",
    "        opt_model.AddNoOverlap([this_intv, that_intv])\n",
    "        no_overlap_pairs.add((this_tensor_name, that_tensor_name))\n",
    "    # inputs and outputs should not overlap\n",
    "    for out_tensor_name, in_tensor_name in product(output_tensor_names, input_tensor_names):\n",
    "        out_intv = var_intv_map[out_tensor_name]\n",
    "        in_intv = var_intv_map[in_tensor_name]\n",
    "        opt_model.AddNoOverlap([out_intv, in_intv])\n",
    "        no_overlap_pairs.add((out_tensor_name, in_tensor_name))\n",
    "    # the outputs of the op should not overlap with exisiting tensors with positive ref cnt\n",
    "    for out_tensor_name, visit_tensor_name in product(output_tensor_names, visited_tensors):\n",
    "        if tensor_ref_cnt[visit_tensor_name] <= 0:\n",
    "            continue\n",
    "        out_intv = var_intv_map[out_tensor_name]\n",
    "        visited_intv = var_intv_map[visit_tensor_name]\n",
    "        opt_model.AddNoOverlap([out_intv, visited_intv])\n",
    "        no_overlap_pairs.add((out_intv, visited_intv))\n",
    "\n",
    "    # decr ref cnt\n",
    "    for tensor_name in input_tensor_names:\n",
    "        tensor_ref_cnt[tensor_name] -= 1\n",
    "    # update visited tensors\n",
    "    visited_tensors.update(input_tensor_names)\n",
    "    visited_tensors.update(output_tensor_names)\n",
    "# Step 3: setup objective\n",
    "var_mem_pool_size = opt_model.NewIntVar(0, max_pool_size_in_bytes, 'mem_pool_size')\n",
    "opt_model.AddMaxEquality(var_mem_pool_size, [alloc.end for alloc in allocation_plan.values()])\n",
    "opt_model.Minimize(var_mem_pool_size)\n",
    "# Step 4: Solve\n",
    "solver = cp_model.CpSolver()\n",
    "status = solver.Solve(opt_model)"
   ]
  },
  {
   "cell_type": "code",
   "execution_count": 62,
   "id": "1007f526-cf7d-43bd-b669-5c9fa2edae06",
   "metadata": {},
   "outputs": [
    {
     "name": "stdout",
     "output_type": "stream",
     "text": [
      "optimal allocation plan found: 692352 total bytes\n",
      "opt/naive: 95.086\n",
      "input_1:0: (0, 784)\n",
      "input_1_int8:0: (21632, 22416)\n",
      "StatefulPartitionedCall/my_model_1/conv2d_1/Conv2D/ReadVariableOp:0: (21632, 21920)\n",
      "StatefulPartitionedCall/my_model_1/conv2d_1/Conv2D_bias:0: (21632, 21664)\n",
      "StatefulPartitionedCall/my_model_1/conv2d_1/Relu:0: (0, 21632)\n",
      "StatefulPartitionedCall/my_model_1/max_pooling2d_1/MaxPool:0: (21632, 27040)\n",
      "StatefulPartitionedCall/my_model_1/max_pooling2d_1/MaxPool_0_Reshape0:0: (0, 5408)\n",
      "StatefulPartitionedCall/my_model_1/dense_2/MatMul/ReadVariableOp/transpose:0: (0, 692224)\n",
      "StatefulPartitionedCall/my_model_1/dense_2/MatMul_bias:0: (0, 128)\n",
      "StatefulPartitionedCall/my_model_1/dense_2/Relu:0: (692224, 692352)\n",
      "StatefulPartitionedCall/my_model_1/dense_3/MatMul/ReadVariableOp/transpose:0: (0, 1280)\n",
      "StatefulPartitionedCall/my_model_1/dense_3/MatMul_bias:0: (0, 12)\n",
      "Identity_int8:0: (1280, 1292)\n",
      "Identity:0: (0, 12)\n"
     ]
    }
   ],
   "source": [
    "if status == cp_model.OPTIMAL:\n",
    "    opt_mem_pool_size = solver.Value(var_mem_pool_size)\n",
    "    print(f\"optimal allocation plan found: {opt_mem_pool_size} total bytes\")\n",
    "    print(f\"opt/naive: {opt_mem_pool_size/naive_total*100:0.3f}\")\n",
    "    for tensor_name, mem_alloc in allocation_plan.items():\n",
    "        mem_start = solver.Value(mem_alloc.start)\n",
    "        mem_end = solver.Value(mem_alloc.end)\n",
    "        print(f\"{tensor_name}: ({mem_start}, {mem_end})\")\n",
    "else:\n",
    "    print(\"fail to find optimal allocation plan\")"
   ]
  },
  {
   "cell_type": "code",
   "execution_count": null,
   "id": "bce1a038-9bf0-4352-9b41-518cea1ecfef",
   "metadata": {},
   "outputs": [],
   "source": []
  }
 ],
 "metadata": {
  "kernelspec": {
   "display_name": "sciconf-2024",
   "language": "python",
   "name": "sciconf-2024"
  },
  "language_info": {
   "codemirror_mode": {
    "name": "ipython",
    "version": 3
   },
   "file_extension": ".py",
   "mimetype": "text/x-python",
   "name": "python",
   "nbconvert_exporter": "python",
   "pygments_lexer": "ipython3",
   "version": "3.10.3"
  }
 },
 "nbformat": 4,
 "nbformat_minor": 5
}
