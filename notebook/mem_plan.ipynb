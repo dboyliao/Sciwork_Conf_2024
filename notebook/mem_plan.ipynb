{
 "cells": [
  {
   "cell_type": "code",
   "execution_count": 1,
   "id": "f83b1d29-77b7-456d-b8f2-9a0f2b7fe388",
   "metadata": {},
   "outputs": [],
   "source": [
    "import pickle\n",
    "\n",
    "import ortools.sat.python.cp_model as cp_model"
   ]
  },
  {
   "cell_type": "code",
   "execution_count": 2,
   "id": "ab620adf-5fed-4123-8754-e0ba24355695",
   "metadata": {},
   "outputs": [],
   "source": [
    "with open(\"./simple_model_mem_alloc_data.pkl\", \"rb\") as fid:\n",
    "    mem_alloc_data = pickle.load(fid)"
   ]
  },
  {
   "cell_type": "code",
   "execution_count": 3,
   "id": "db7996f7-7b67-4338-bcf4-561617be2510",
   "metadata": {},
   "outputs": [
    {
     "data": {
      "text/plain": [
       "{'tensors_meta': {'input_1:0': ([1, 28, 28, 1], dtype('float32'), 4),\n",
       "  'input_1_int8:0': ([1, 28, 28, 1], dtype('int8'), 1),\n",
       "  'StatefulPartitionedCall/my_model_1/conv2d_1/Conv2D/ReadVariableOp:0': ([1,\n",
       "    3,\n",
       "    3,\n",
       "    32],\n",
       "   dtype('int8'),\n",
       "   1),\n",
       "  'StatefulPartitionedCall/my_model_1/conv2d_1/Conv2D_bias:0': ([32],\n",
       "   dtype('int32'),\n",
       "   4),\n",
       "  'StatefulPartitionedCall/my_model_1/conv2d_1/Relu:0': ([1, 26, 26, 32],\n",
       "   dtype('int8'),\n",
       "   1),\n",
       "  'StatefulPartitionedCall/my_model_1/max_pooling2d_1/MaxPool:0': ([1,\n",
       "    13,\n",
       "    13,\n",
       "    32],\n",
       "   dtype('int8'),\n",
       "   1),\n",
       "  'StatefulPartitionedCall/my_model_1/max_pooling2d_1/MaxPool_0_Reshape0:0': ([1,\n",
       "    5408],\n",
       "   dtype('int8'),\n",
       "   1),\n",
       "  'StatefulPartitionedCall/my_model_1/dense_2/MatMul/ReadVariableOp/transpose:0': ([5408,\n",
       "    128],\n",
       "   dtype('int8'),\n",
       "   1),\n",
       "  'StatefulPartitionedCall/my_model_1/dense_2/MatMul_bias:0': ([128],\n",
       "   dtype('int32'),\n",
       "   4),\n",
       "  'StatefulPartitionedCall/my_model_1/dense_2/Relu:0': ([1, 128],\n",
       "   dtype('int8'),\n",
       "   1),\n",
       "  'StatefulPartitionedCall/my_model_1/dense_3/MatMul/ReadVariableOp/transpose:0': ([128,\n",
       "    10],\n",
       "   dtype('int8'),\n",
       "   1),\n",
       "  'StatefulPartitionedCall/my_model_1/dense_3/MatMul_bias:0': ([10],\n",
       "   dtype('int32'),\n",
       "   4),\n",
       "  'Identity_int8:0': ([1, 10], dtype('int8'), 1),\n",
       "  'Identity:0': ([1, 10], dtype('float32'), 4)},\n",
       " 'op_inputs_map': {'input_1:0_Placeholder': [],\n",
       "  '0_QUANTIZE': ['input_1:0'],\n",
       "  'StatefulPartitionedCall/my_model_1/conv2d_1/Conv2D/ReadVariableOp_Const': [],\n",
       "  'StatefulPartitionedCall/my_model_1/conv2d_1/Conv2D_bias_Const': [],\n",
       "  '1_DEPTHWISE_CONV_2D': ['input_1_int8:0',\n",
       "   'StatefulPartitionedCall/my_model_1/conv2d_1/Conv2D/ReadVariableOp:0',\n",
       "   'StatefulPartitionedCall/my_model_1/conv2d_1/Conv2D_bias:0'],\n",
       "  '2_MAX_POOL_2D': ['StatefulPartitionedCall/my_model_1/conv2d_1/Relu:0'],\n",
       "  'StatefulPartitionedCall/my_model_1/max_pooling2d_1/MaxPool_0_Reshape0': ['StatefulPartitionedCall/my_model_1/max_pooling2d_1/MaxPool:0'],\n",
       "  'StatefulPartitionedCall/my_model_1/dense_2/MatMul/ReadVariableOp/transpose_Const': [],\n",
       "  'StatefulPartitionedCall/my_model_1/dense_2/MatMul_bias_Const': [],\n",
       "  '3_FULLY_CONNECTED': ['StatefulPartitionedCall/my_model_1/max_pooling2d_1/MaxPool_0_Reshape0:0',\n",
       "   'StatefulPartitionedCall/my_model_1/dense_2/MatMul/ReadVariableOp/transpose:0',\n",
       "   'StatefulPartitionedCall/my_model_1/dense_2/MatMul_bias:0'],\n",
       "  'StatefulPartitionedCall/my_model_1/dense_3/MatMul/ReadVariableOp/transpose_Const': [],\n",
       "  'StatefulPartitionedCall/my_model_1/dense_3/MatMul_bias_Const': [],\n",
       "  '4_FULLY_CONNECTED': ['StatefulPartitionedCall/my_model_1/dense_2/Relu:0',\n",
       "   'StatefulPartitionedCall/my_model_1/dense_3/MatMul/ReadVariableOp/transpose:0',\n",
       "   'StatefulPartitionedCall/my_model_1/dense_3/MatMul_bias:0'],\n",
       "  '5_DEQUANTIZE': ['Identity_int8:0']},\n",
       " 'op_outputs_map': {'input_1:0_Placeholder': ['input_1:0'],\n",
       "  '0_QUANTIZE': ['input_1_int8:0'],\n",
       "  'StatefulPartitionedCall/my_model_1/conv2d_1/Conv2D/ReadVariableOp_Const': ['StatefulPartitionedCall/my_model_1/conv2d_1/Conv2D/ReadVariableOp:0'],\n",
       "  'StatefulPartitionedCall/my_model_1/conv2d_1/Conv2D_bias_Const': ['StatefulPartitionedCall/my_model_1/conv2d_1/Conv2D_bias:0'],\n",
       "  '1_DEPTHWISE_CONV_2D': ['StatefulPartitionedCall/my_model_1/conv2d_1/Relu:0'],\n",
       "  '2_MAX_POOL_2D': ['StatefulPartitionedCall/my_model_1/max_pooling2d_1/MaxPool:0'],\n",
       "  'StatefulPartitionedCall/my_model_1/max_pooling2d_1/MaxPool_0_Reshape0': ['StatefulPartitionedCall/my_model_1/max_pooling2d_1/MaxPool_0_Reshape0:0'],\n",
       "  'StatefulPartitionedCall/my_model_1/dense_2/MatMul/ReadVariableOp/transpose_Const': ['StatefulPartitionedCall/my_model_1/dense_2/MatMul/ReadVariableOp/transpose:0'],\n",
       "  'StatefulPartitionedCall/my_model_1/dense_2/MatMul_bias_Const': ['StatefulPartitionedCall/my_model_1/dense_2/MatMul_bias:0'],\n",
       "  '3_FULLY_CONNECTED': ['StatefulPartitionedCall/my_model_1/dense_2/Relu:0'],\n",
       "  'StatefulPartitionedCall/my_model_1/dense_3/MatMul/ReadVariableOp/transpose_Const': ['StatefulPartitionedCall/my_model_1/dense_3/MatMul/ReadVariableOp/transpose:0'],\n",
       "  'StatefulPartitionedCall/my_model_1/dense_3/MatMul_bias_Const': ['StatefulPartitionedCall/my_model_1/dense_3/MatMul_bias:0'],\n",
       "  '4_FULLY_CONNECTED': ['Identity_int8:0'],\n",
       "  '5_DEQUANTIZE': ['Identity:0']},\n",
       " 'ops_topo_order': ['input_1:0_Placeholder',\n",
       "  '0_QUANTIZE',\n",
       "  'StatefulPartitionedCall/my_model_1/conv2d_1/Conv2D/ReadVariableOp_Const',\n",
       "  'StatefulPartitionedCall/my_model_1/conv2d_1/Conv2D_bias_Const',\n",
       "  '1_DEPTHWISE_CONV_2D',\n",
       "  '2_MAX_POOL_2D',\n",
       "  'StatefulPartitionedCall/my_model_1/max_pooling2d_1/MaxPool_0_Reshape0',\n",
       "  'StatefulPartitionedCall/my_model_1/dense_2/MatMul/ReadVariableOp/transpose_Const',\n",
       "  'StatefulPartitionedCall/my_model_1/dense_2/MatMul_bias_Const',\n",
       "  '3_FULLY_CONNECTED',\n",
       "  'StatefulPartitionedCall/my_model_1/dense_3/MatMul/ReadVariableOp/transpose_Const',\n",
       "  'StatefulPartitionedCall/my_model_1/dense_3/MatMul_bias_Const',\n",
       "  '4_FULLY_CONNECTED',\n",
       "  '5_DEQUANTIZE']}"
      ]
     },
     "execution_count": 3,
     "metadata": {},
     "output_type": "execute_result"
    }
   ],
   "source": [
    "mem_alloc_data"
   ]
  },
  {
   "cell_type": "code",
   "execution_count": null,
   "id": "2ad04d70-2970-41e3-a898-d8818415e318",
   "metadata": {},
   "outputs": [],
   "source": []
  }
 ],
 "metadata": {
  "kernelspec": {
   "display_name": "sciconf-2024",
   "language": "python",
   "name": "sciconf-2024"
  },
  "language_info": {
   "codemirror_mode": {
    "name": "ipython",
    "version": 3
   },
   "file_extension": ".py",
   "mimetype": "text/x-python",
   "name": "python",
   "nbconvert_exporter": "python",
   "pygments_lexer": "ipython3",
   "version": "3.10.3"
  }
 },
 "nbformat": 4,
 "nbformat_minor": 5
}
