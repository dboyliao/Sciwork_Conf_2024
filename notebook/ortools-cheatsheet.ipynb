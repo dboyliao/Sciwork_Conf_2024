{
 "cells": [
  {
   "cell_type": "markdown",
   "id": "66412998-ef7d-4143-8fcc-d1c1ce9ab673",
   "metadata": {
    "deletable": true,
    "editable": true,
    "frozen": false,
    "slideshow": {
     "slide_type": ""
    },
    "tags": []
   },
   "source": [
    "# OR-Tools Cheatsheet"
   ]
  },
  {
   "cell_type": "markdown",
   "id": "ce921fed-c2cb-48d5-a515-1f70de4b1f6a",
   "metadata": {
    "deletable": true,
    "editable": true,
    "frozen": false,
    "slideshow": {
     "slide_type": "slide"
    },
    "tags": []
   },
   "source": [
    "OR-Tools is open source software for combinatorial optimization.\n",
    "\n",
    "It includes solvers for:\n",
    "- Constraint Programming\n",
    "- Linear and Mixed-Integer Programming\n",
    "- Vehicle Routing\n",
    "- Graph Algorithms\n",
    "\n",
    "[Home](https://developers.google.com/optimization)"
   ]
  },
  {
   "cell_type": "markdown",
   "id": "f4d42af7-4199-4d6e-9e3b-d04bb9e91607",
   "metadata": {
    "deletable": true,
    "editable": true,
    "frozen": false,
    "slideshow": {
     "slide_type": "slide"
    },
    "tags": []
   },
   "source": [
    "## API Naming Convention"
   ]
  },
  {
   "cell_type": "markdown",
   "id": "09354766-b066-4c17-ada0-76b3e178dfe8",
   "metadata": {
    "deletable": true,
    "editable": true,
    "frozen": false,
    "slideshow": {
     "slide_type": "fragment"
    },
    "tags": []
   },
   "source": [
    "- `new_<data-type>_var`: Declare a variable of `data-type`\n",
    "    - ex: `new_int_var`\n",
    "- `add_<constraint_type>`: Declare a constraint for the programming problem\n",
    "    - ex: `add_abs_equality`\n",
    "- `maximize` and `minimize`: Declare a maximizing/minimizing objective for the programming problem"
   ]
  },
  {
   "cell_type": "code",
   "execution_count": 1,
   "id": "53b39e67-6175-4cbd-a503-6af1609adeed",
   "metadata": {
    "deletable": true,
    "editable": true,
    "frozen": false,
    "slideshow": {
     "slide_type": "subslide"
    },
    "tags": []
   },
   "outputs": [],
   "source": [
    "# Example\n",
    "import ortools.sat.python.cp_model as cp_model"
   ]
  },
  {
   "cell_type": "code",
   "execution_count": 2,
   "id": "ff67689f-5128-4cdb-b239-b6a8991b2788",
   "metadata": {
    "deletable": true,
    "editable": true,
    "frozen": false,
    "slideshow": {
     "slide_type": "fragment"
    },
    "tags": []
   },
   "outputs": [],
   "source": [
    "# Declare a constraint programming problem\n",
    "model = cp_model.CpModel()\n",
    "var_x = model.new_int_var(1, 5, \"var_x\") # x is a variable in [1, 5]\n",
    "var_y = model.new_int_var(3, 10, \"var_y\") # y is a variable in [3, 10]\n",
    "objective = var_x - var_y\n",
    "model.add(var_x >= var_y) # x must be larger or equal to y\n",
    "model.maximize(objective)"
   ]
  },
  {
   "cell_type": "code",
   "execution_count": 3,
   "id": "86069874-2a05-41f3-b4f1-ae1a6b790c3c",
   "metadata": {
    "deletable": true,
    "editable": true,
    "frozen": false,
    "slideshow": {
     "slide_type": "subslide"
    },
    "tags": []
   },
   "outputs": [],
   "source": [
    "# Solve the constraint programming problem\n",
    "solver = cp_model.CpSolver()\n",
    "status = solver.solve(model)"
   ]
  },
  {
   "cell_type": "markdown",
   "id": "12c2d0ea-48a1-4a78-bf6f-0c73ca7f21c7",
   "metadata": {
    "deletable": true,
    "editable": true,
    "frozen": false,
    "slideshow": {
     "slide_type": "subslide"
    },
    "tags": []
   },
   "source": [
    "- Possible values for the `status`\n",
    "  - `OPTIMAL`\n",
    "  - `FEASIBLE`\n",
    "  - `INFEASIBLE`\n",
    "  - `MODEL_INVALID`\n",
    "  - `UNKNOWN`\n",
    "\n",
    "The meaning of these status can be found [here](https://developers.google.com/optimization/cp/cp_solver#cp-sat_return_values)."
   ]
  },
  {
   "cell_type": "code",
   "execution_count": 4,
   "id": "0c0284e7-43ea-4538-9d14-93e5127a1387",
   "metadata": {
    "deletable": true,
    "editable": true,
    "frozen": false,
    "slideshow": {
     "slide_type": "subslide"
    },
    "tags": []
   },
   "outputs": [
    {
     "name": "stdout",
     "output_type": "stream",
     "text": [
      "the optimal x and y are: (5, 3)\n",
      "the maximum of `x - y` is 2\n"
     ]
    }
   ],
   "source": [
    "if status == cp_model.OPTIMAL:\n",
    "    objective_value = solver.value(objective)\n",
    "    x = solver.value(var_x)\n",
    "    y = solver.value(var_y)\n",
    "    print(f\"the optimal x and y are: {(x, y)}\")\n",
    "    print(f\"the maximum of `x - y` is {objective_value}\")\n",
    "else:\n",
    "    print(\"Fail to solve the cp problem, so sad :(\")"
   ]
  },
  {
   "cell_type": "markdown",
   "id": "ceb3c142-510b-49b8-9278-558b88ac1c81",
   "metadata": {
    "deletable": true,
    "editable": true,
    "frozen": false,
    "slideshow": {
     "slide_type": "slide"
    },
    "tags": []
   },
   "source": [
    "## Some Useful API You may Need for Solving Mem Allocation"
   ]
  },
  {
   "cell_type": "markdown",
   "id": "d2b39325-b3ba-464e-9e77-03026b3d9fa6",
   "metadata": {
    "deletable": true,
    "editable": true,
    "frozen": false,
    "slideshow": {
     "slide_type": "subslide"
    },
    "tags": []
   },
   "source": [
    "- `model.new_int_var`\n",
    "    - Since the memory offset we want to solve are integers.\n",
    "- `model.new_interval_var`\n",
    "    - declare intervals to represent the memory blocks of the tensors.\n",
    "    - the `start` and `end` of the interval could be integer variables.\n",
    "- `model.add_no_overlap`\n",
    "    - declare no-overlapping constraint on intervals"
   ]
  },
  {
   "cell_type": "markdown",
   "id": "d03e4b4a-3100-4cf3-8d08-b0212d0ec616",
   "metadata": {
    "deletable": true,
    "editable": true,
    "frozen": false,
    "slideshow": {
     "slide_type": "slide"
    },
    "tags": []
   },
   "source": [
    "## Allocation Plan Data"
   ]
  },
  {
   "cell_type": "code",
   "execution_count": 5,
   "id": "c8b16503-0895-40cd-af40-d123cab37d13",
   "metadata": {
    "deletable": true,
    "editable": true,
    "frozen": false,
    "slideshow": {
     "slide_type": "skip"
    },
    "tags": []
   },
   "outputs": [],
   "source": [
    "import pickle"
   ]
  },
  {
   "cell_type": "code",
   "execution_count": 6,
   "id": "54010d42-743a-4bab-8c53-81197246ffd1",
   "metadata": {
    "deletable": true,
    "editable": true,
    "frozen": false,
    "slideshow": {
     "slide_type": "subslide"
    },
    "tags": []
   },
   "outputs": [
    {
     "data": {
      "text/plain": [
       "dict_keys(['tensors_meta', 'op_inputs_map', 'op_outputs_map', 'ops_topo_order'])"
      ]
     },
     "execution_count": 6,
     "metadata": {},
     "output_type": "execute_result"
    }
   ],
   "source": [
    "with open(\"./labs/simple_model_mem_alloc_data.pkl\", \"rb\") as fid:\n",
    "    mem_alloc_data = pickle.load(fid)\n",
    "mem_alloc_data.keys()"
   ]
  },
  {
   "cell_type": "markdown",
   "id": "76a7c8ef-f080-40d0-91f5-e6db574c7133",
   "metadata": {
    "deletable": true,
    "editable": true,
    "frozen": false,
    "slideshow": {
     "slide_type": "fragment"
    },
    "tags": []
   },
   "source": [
    "- `tensors_meta`(`dict[str, tuple]`): a dictionary which maps tensor names to its meta data\n",
    "    - the meta data of the tensor is a tuple: `(shape, dtype, itemsize)`\n",
    "- `op_inputs_map`(`dict[str, list]`): a dictionary which maps op/node names to its input tensors\n",
    "    - the value are list of names of input tensors of the node\n",
    "- `op_outputs_map`(`dict[str, list]`): similar to `op_inputs_map` where the values are the names of the output tensors of the node\n",
    "- `ops_topo_order` (`list[str]`): the names of the op/nodes in the graph in topological ordering"
   ]
  }
 ],
 "metadata": {
  "kernelspec": {
   "display_name": "sciconf-2024",
   "language": "python",
   "name": "sciconf-2024"
  },
  "language_info": {
   "codemirror_mode": {
    "name": "ipython",
    "version": 3
   },
   "file_extension": ".py",
   "mimetype": "text/x-python",
   "name": "python",
   "nbconvert_exporter": "python",
   "pygments_lexer": "ipython3",
   "version": "3.10.3"
  }
 },
 "nbformat": 4,
 "nbformat_minor": 5
}
